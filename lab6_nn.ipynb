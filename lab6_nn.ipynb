{
 "cells": [
  {
   "cell_type": "code",
   "execution_count": 200,
   "metadata": {},
   "outputs": [],
   "source": [
    "import numpy as np\n",
    "import sys\n",
    "sys.path.insert(1, './fashion-mnist/utils')\n",
    "import mnist_reader"
   ]
  },
  {
   "cell_type": "code",
   "execution_count": 201,
   "metadata": {},
   "outputs": [
    {
     "name": "stdout",
     "output_type": "stream",
     "text": [
      "x shape: (60000, 784)\n",
      "y shape: (60000,)\n"
     ]
    }
   ],
   "source": [
    "x_train, y_train = mnist_reader.load_mnist('./fashion-mnist/data/fashion', kind='train')\n",
    "x_test, y_test = mnist_reader.load_mnist('./fashion-mnist/data/fashion', kind='t10k')\n",
    "print('x shape:', x_train.shape)\n",
    "print('y shape:', y_train.shape)"
   ]
  },
  {
   "cell_type": "code",
   "execution_count": 202,
   "metadata": {},
   "outputs": [],
   "source": [
    "# Normalizar datos, 255 es el valor maximo de RGB\n",
    "x_train = x_train / 255"
   ]
  },
  {
   "cell_type": "code",
   "execution_count": 203,
   "metadata": {},
   "outputs": [
    {
     "data": {
      "text/plain": [
       "(60000, 10)"
      ]
     },
     "execution_count": 203,
     "metadata": {},
     "output_type": "execute_result"
    }
   ],
   "source": [
    "# Transformar vector y, para reflejar nuestras 10 neuronas de salida\n",
    "y_trains = []\n",
    "for i in y_train:\n",
    "    y = []\n",
    "    for j in range(0, 10):\n",
    "        if i == j:\n",
    "            y.append(1.0)\n",
    "        else:\n",
    "            y.append(0.0)\n",
    "    y_trains.append(y)\n",
    "\n",
    "y_trains = np.array(y_trains)\n",
    "y_trains.shape"
   ]
  },
  {
   "cell_type": "code",
   "execution_count": 204,
   "metadata": {},
   "outputs": [],
   "source": [
    "class NeuralNet:\n",
    "    def __init__(self, x, y):\n",
    "        np.random.seed(69)\n",
    "        self.x = x\n",
    "        self.y = y\n",
    "        self.learning_rate = 0.01\n",
    "        n = 1 / np.sqrt(x.shape[1])\n",
    "        self.w_ih = np.random.uniform(low=-n, high=n, size=(x.shape[1] // 3, x.shape[1]))\n",
    "        self.w_ho = np.random.uniform(low=-n, high=n, size=(y.shape[1], x.shape[1] // 3))\n",
    "        \n",
    "    def sigmoid(self, x):\n",
    "        return 1 / (1 + np.exp(-x))\n",
    "        \n",
    "    def feed_forward(self):\n",
    "        # Capa input a hidden\n",
    "        z_ih = np.matmul(self.w_ih, self.x.T)\n",
    "        self.a_ih = self.sigmoid(z_ih)\n",
    "        \n",
    "        # Capa hidden a output\n",
    "        z_ho = np.matmul(self.w_ho, self.a_ih)\n",
    "        self.a_ho = self.sigmoid(z_ho)\n",
    "        \n",
    "    def back_propagate(self):\n",
    "        error_o = self.y.T - self.a_ho\n",
    "        error_od = error_o * (self.a_ho * (1.0 - self.a_ho))\n",
    "\n",
    "        ho_error = np.matmul(self.w_ho.T, error_od)\n",
    "        ho_d = ho_error * (self.a_ih * (1.0 - self.a_ih))\n",
    "\n",
    "        self.w_ih += self.learning_rate * np.matmul(ho_d, self.x)\n",
    "        self.w_ho += self.learning_rate * np.matmul(error_od, self.a_ih.T)\n",
    "        \n",
    "    def train(self, epochs=1000):\n",
    "        for i in range(0, epochs):\n",
    "            self.feed_forward()\n",
    "            self.back_propagate()\n",
    "            \n",
    "    def predict(self, x):\n",
    "        z_ih = np.matmul(self.w_ih, x.T)\n",
    "        self.a_ih = self.sigmoid(z_ih)\n",
    "        z_ho = np.matmul(self.w_ho, self.a_ih)\n",
    "        return self.sigmoid(z_ho)"
   ]
  },
  {
   "cell_type": "code",
   "execution_count": 215,
   "metadata": {},
   "outputs": [],
   "source": [
    "x_train = x_train[0:100]\n",
    "y_trains = y_trains[0:100]\n",
    "\n",
    "net = NeuralNet(x_train, y_trains)\n",
    "net.train(epochs=100000)"
   ]
  },
  {
   "cell_type": "code",
   "execution_count": 216,
   "metadata": {},
   "outputs": [
    {
     "name": "stdout",
     "output_type": "stream",
     "text": [
      "Correct: 71\n",
      "Wrong: 29\n"
     ]
    },
    {
     "name": "stderr",
     "output_type": "stream",
     "text": [
      "/Users/sebdev6992/Documents/uvg/2020/s1/ai/lab2/lib/python3.7/site-packages/ipykernel_launcher.py:12: RuntimeWarning: overflow encountered in exp\n",
      "  if sys.path[0] == '':\n"
     ]
    }
   ],
   "source": [
    "correct = 0\n",
    "wrong = 0\n",
    "for x in range(len(x_train)):\n",
    "    y_pred = net.predict(x_test[x])\n",
    "    highest = 0.0\n",
    "    highest_index = 0\n",
    "    for i in range(len(y_pred)):\n",
    "        if (y_pred[i] > highest):\n",
    "            highest = y_pred[i]\n",
    "            highest_index = i\n",
    "    if highest_index == y_test[x]:\n",
    "        correct += 1\n",
    "    else:\n",
    "        wrong += 1\n",
    "        \n",
    "print('Correct:', correct)\n",
    "print('Wrong:', wrong)"
   ]
  },
  {
   "cell_type": "code",
   "execution_count": null,
   "metadata": {},
   "outputs": [],
   "source": []
  }
 ],
 "metadata": {
  "kernelspec": {
   "display_name": "Python 3",
   "language": "python",
   "name": "python3"
  },
  "language_info": {
   "codemirror_mode": {
    "name": "ipython",
    "version": 3
   },
   "file_extension": ".py",
   "mimetype": "text/x-python",
   "name": "python",
   "nbconvert_exporter": "python",
   "pygments_lexer": "ipython3",
   "version": "3.7.5"
  }
 },
 "nbformat": 4,
 "nbformat_minor": 4
}
